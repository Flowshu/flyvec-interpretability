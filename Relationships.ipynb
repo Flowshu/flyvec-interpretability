{
 "cells": [
  {
   "cell_type": "markdown",
   "id": "5bf871b3",
   "metadata": {},
   "source": [
    "# Semantic and Syntactic Relationships"
   ]
  },
  {
   "cell_type": "code",
   "execution_count": 15,
   "id": "647b970e-ba10-40b0-8fca-28747b3031cc",
   "metadata": {},
   "outputs": [],
   "source": [
    "import numpy as np\n",
    "from scipy import spatial\n",
    "from tqdm import tqdm\n",
    "\n",
    "from flyvec import FlyVec\n",
    "\n",
    "import gensim\n",
    "\n",
    "from transformers import BertModel, BertTokenizer\n",
    "import torch"
   ]
  },
  {
   "cell_type": "markdown",
   "id": "1f7e36d6",
   "metadata": {},
   "source": [
    "### FlyVec"
   ]
  },
  {
   "cell_type": "code",
   "execution_count": 3,
   "id": "a15d989d-7cb6-426a-8cef-75e14513f2c0",
   "metadata": {},
   "outputs": [],
   "source": [
    "flyvec_model = FlyVec.load()\n",
    "flyvec = dict()\n",
    "for word in flyvec_model.token_vocab:\n",
    "    if flyvec_model.tokenizer.tokenize(word) != []:\n",
    "        flyvec[word] = flyvec_model.get_sparse_embedding(word)['embedding']"
   ]
  },
  {
   "cell_type": "markdown",
   "id": "3631de47",
   "metadata": {},
   "source": [
    "### word2vec"
   ]
  },
  {
   "cell_type": "code",
   "execution_count": 4,
   "id": "0b406dea-aba2-489f-978c-234f12cb235d",
   "metadata": {},
   "outputs": [],
   "source": [
    "# https://s3.amazonaws.com/dl4j-distribution/GoogleNews-vectors-negative300.bin.gz\n",
    "\n",
    "word2vec_model = gensim.models.KeyedVectors.load_word2vec_format('models/GoogleNews-vectors-negative300.bin', binary = True) \n",
    "word2vec = dict()\n",
    "for k in list(word2vec_model.key_to_index.keys())[:20000]:\n",
    "    word2vec[k] = word2vec_model[k]"
   ]
  },
  {
   "cell_type": "markdown",
   "id": "d203b7a3",
   "metadata": {},
   "source": [
    "### GloVe"
   ]
  },
  {
   "cell_type": "code",
   "execution_count": 5,
   "id": "8f106f2d-c0e0-4c32-aea2-78d1daed8ff0",
   "metadata": {},
   "outputs": [],
   "source": [
    "# https://nlp.stanford.edu/projects/glove/\n",
    "# https://nlp.stanford.edu/data/glove.6B.zip\n",
    "\n",
    "glove_model = open(\"./models/glove.6B.300d.txt\", \"r\", encoding=\"utf-8\")\n",
    "glove = dict()\n",
    "for i, line in enumerate(glove_model):\n",
    "    if i == 20000:\n",
    "        break\n",
    "    tokens = line.split()\n",
    "    word = tokens[0]\n",
    "    vector = np.asarray(tokens[1:], \"float32\")\n",
    "    glove[word] = vector"
   ]
  },
  {
   "cell_type": "markdown",
   "id": "106d0d78",
   "metadata": {},
   "source": [
    "### BERT"
   ]
  },
  {
   "cell_type": "code",
   "execution_count": null,
   "id": "d99c48ac",
   "metadata": {},
   "outputs": [],
   "source": [
    "bert_base = \"bert-base-uncased\"\n",
    "bert_base_tokenizer = BertTokenizer.from_pretrained(bert_base)\n",
    "bert_base_model = BertModel.from_pretrained(bert_base)\n",
    "bert = dict()\n",
    "for token, id in bert_base_tokenizer.get_vocab().items():\n",
    "    bert[token] = bert_base_model.get_input_embeddings()(torch.tensor(id)).detach().numpy() "
   ]
  },
  {
   "cell_type": "markdown",
   "id": "73536e22",
   "metadata": {},
   "source": [
    "### Experiments"
   ]
  },
  {
   "cell_type": "code",
   "execution_count": 7,
   "id": "34f9591a-8e1f-42fc-b136-b2c2c7a3107c",
   "metadata": {},
   "outputs": [],
   "source": [
    "# taken from https://medium.com/analytics-vidhya/basics-of-using-pre-trained-glove-vectors-in-python-d38905f356db\n",
    "def find_closest_embeddings(embedding_dict, embedding):\n",
    "    return sorted(embedding_dict.keys(), key=lambda word: spatial.distance.euclidean(embedding_dict[word], embedding))"
   ]
  },
  {
   "cell_type": "code",
   "execution_count": 8,
   "id": "9c41935c-2576-4ca8-b370-5ad49b5ad8f8",
   "metadata": {},
   "outputs": [
    {
     "name": "stdout",
     "output_type": "stream",
     "text": [
      "FlyVec ['nephew', 'kings', 'grandson', 'king’s', 'princess']\n",
      "word2vec ['queen', 'princess', 'prince', 'King', 'ruler']\n",
      "GloVe ['queen', 'monarch', 'mother', 'princess', 'daughter']\n",
      "BERT ['queen', 'woman', 'women', 'princess', 'female']\n"
     ]
    }
   ],
   "source": [
    "# king - man + woman = queen\n",
    "print(\"FlyVec\",find_closest_embeddings(flyvec, flyvec[\"king\"] - flyvec[\"man\"] + flyvec[\"woman\"])[1:6])\n",
    "print(\"word2vec\",find_closest_embeddings(word2vec, word2vec[\"king\"] - word2vec[\"man\"] + word2vec[\"woman\"])[1:6])\n",
    "print(\"GloVe\",find_closest_embeddings(glove, glove[\"king\"] - glove[\"man\"] + glove[\"woman\"])[1:6])\n",
    "print(\"BERT\",find_closest_embeddings(bert, bert[\"king\"] - bert[\"man\"] + bert[\"woman\"])[1:6])"
   ]
  },
  {
   "cell_type": "code",
   "execution_count": 9,
   "id": "48af5423-4d67-4ac6-a27a-4810ba78bed2",
   "metadata": {},
   "outputs": [
    {
     "name": "stdout",
     "output_type": "stream",
     "text": [
      "FlyVec ['actress', 'woman', 'woman”', 'potter', 'musician']\n",
      "word2vec ['actress', 'actresses', 'actors', 'woman', 'singer']\n",
      "GloVe ['actor', 'actresses', 'actors', 'starred', 'performer']\n",
      "BERT ['actor', 'actors', 'actresses', 'comedian', 'activist']\n"
     ]
    }
   ],
   "source": [
    "# actor - man + woman = actress\n",
    "print(\"FlyVec\",find_closest_embeddings(flyvec, flyvec[\"actor\"] - flyvec[\"man\"] + flyvec[\"woman\"])[1:6])\n",
    "print(\"word2vec\",find_closest_embeddings(word2vec, word2vec[\"actor\"] - word2vec[\"man\"] + word2vec[\"woman\"])[1:6])\n",
    "print(\"GloVe\",find_closest_embeddings(glove, glove[\"actor\"] - glove[\"man\"] + glove[\"woman\"])[1:6])\n",
    "print(\"BERT\",find_closest_embeddings(bert, bert[\"actor\"] - bert[\"man\"] + bert[\"woman\"])[1:6])"
   ]
  },
  {
   "cell_type": "code",
   "execution_count": 10,
   "id": "e718b9e5-b9f2-4986-9ae7-6d5e5c3888c9",
   "metadata": {},
   "outputs": [
    {
     "name": "stdout",
     "output_type": "stream",
     "text": [
      "FlyVec ['england', 'madrid', 'orlando', 'brisbane', 'munich']\n",
      "word2vec ['London', 'Paris', 'Manchester', 'Oxford', 'Brighton']\n",
      "GloVe ['london', 'birmingham', 'manchester', 'oxford', 'middlesex']\n",
      "BERT ['paris', 'london', 'english', 'manchester', 'chicago']\n"
     ]
    }
   ],
   "source": [
    "# Paris - France + England = London\n",
    "print(\"FlyVec\",find_closest_embeddings(flyvec, flyvec[\"paris\"] - flyvec[\"france\"] + flyvec[\"england\"])[1:6])\n",
    "print(\"word2vec\",find_closest_embeddings(word2vec, word2vec[\"Paris\"] - word2vec[\"France\"] + word2vec[\"England\"])[1:6])\n",
    "print(\"GloVe\",find_closest_embeddings(glove, glove[\"paris\"] - glove[\"france\"] + glove[\"england\"])[1:6])\n",
    "print(\"BERT\",find_closest_embeddings(bert, bert[\"paris\"] - bert[\"france\"] + bert[\"england\"])[1:6])"
   ]
  },
  {
   "cell_type": "code",
   "execution_count": 11,
   "id": "336ec263-72f4-4f74-bee3-5acb7066c5cb",
   "metadata": {},
   "outputs": [
    {
     "name": "stdout",
     "output_type": "stream",
     "text": [
      "FlyVec ['athlete', 'award', 'writers', 'awardwinning', 'teacher']\n",
      "word2vec ['artist', 'athlete', 'artwork', 'painter', 'musician']\n",
      "GloVe ['artist', 'sculptor', 'painter', 'sculpture', 'artists']\n",
      "BERT ['athlete', 'artist', 'artists', 'artwork', 'artworks']\n"
     ]
    }
   ],
   "source": [
    "# athlete - sport + art = artist\n",
    "print(\"FlyVec\",find_closest_embeddings(flyvec, flyvec[\"athlete\"] - flyvec[\"sport\"] + flyvec[\"art\"])[1:6])\n",
    "print(\"word2vec\",find_closest_embeddings(word2vec, word2vec[\"athlete\"] - word2vec[\"sport\"] + word2vec[\"art\"])[1:6])\n",
    "print(\"GloVe\",find_closest_embeddings(glove, glove[\"athlete\"] - glove[\"sport\"] + glove[\"art\"])[1:6])\n",
    "print(\"BERT\",find_closest_embeddings(bert, bert[\"athlete\"] - bert[\"sport\"] + bert[\"art\"])[1:6])"
   ]
  },
  {
   "cell_type": "code",
   "execution_count": 12,
   "id": "dba2ef4a",
   "metadata": {},
   "outputs": [
    {
     "name": "stdout",
     "output_type": "stream",
     "text": [
      "FlyVec ['sister', 'girl', 'girl”', 'boyfriend', 'niece']\n",
      "word2vec ['sister', 'cousin', 'daughter', 'father', 'son']\n",
      "GloVe ['sister', 'cousin', 'daughter', 'wife', 'father']\n",
      "BERT ['sister', 'girl', 'daughter', 'mother', 'friend']\n"
     ]
    }
   ],
   "source": [
    "# brother - boy + girl = sister\n",
    "print(\"FlyVec\",find_closest_embeddings(flyvec, flyvec[\"brother\"] - flyvec[\"boy\"] + flyvec[\"girl\"])[1:6])\n",
    "print(\"word2vec\",find_closest_embeddings(word2vec, word2vec[\"brother\"] - word2vec[\"boy\"] + word2vec[\"girl\"])[1:6])\n",
    "print(\"GloVe\",find_closest_embeddings(glove, glove[\"brother\"] - glove[\"boy\"] + glove[\"girl\"])[1:6])\n",
    "print(\"BERT\",find_closest_embeddings(bert, bert[\"brother\"] - bert[\"boy\"] + bert[\"girl\"])[1:6])"
   ]
  },
  {
   "cell_type": "code",
   "execution_count": 13,
   "id": "02eb3095",
   "metadata": {},
   "outputs": [
    {
     "name": "stdout",
     "output_type": "stream",
     "text": [
      "FlyVec ['newer', 'liquid', 'steam', 'microwave', 'bulky']\n",
      "word2vec ['deeper', 'newer', 'even', 'shallow', 'some']\n",
      "GloVe ['deeper', 'newer', 'shallow', 'whereas', 'rooted']\n",
      "BERT ['deeper', 'newer', 'deepest', 'deeply', 'shallow']\n"
     ]
    }
   ],
   "source": [
    "# newer - new + deep = deeper\n",
    "print(\"FlyVec\",find_closest_embeddings(flyvec, flyvec[\"newer\"] - flyvec[\"new\"] + flyvec[\"deep\"])[1:6])\n",
    "print(\"word2vec\",find_closest_embeddings(word2vec, word2vec[\"newer\"] - word2vec[\"new\"] + word2vec[\"deep\"])[1:6])\n",
    "print(\"GloVe\",find_closest_embeddings(glove, glove[\"newer\"] - glove[\"new\"] + glove[\"deep\"])[1:6])\n",
    "print(\"BERT\",find_closest_embeddings(bert, bert[\"newer\"] - bert[\"new\"] + bert[\"deep\"])[1:6])"
   ]
  },
  {
   "cell_type": "code",
   "execution_count": 14,
   "id": "f273d813",
   "metadata": {},
   "outputs": [
    {
     "name": "stdout",
     "output_type": "stream",
     "text": [
      "FlyVec ['unacceptable', 'apologise', 'unaware', 'warnings', 'concerned']\n",
      "word2vec ['unaware', 'unacceptable', 'mindful', 'concerned', 'reminded']\n",
      "GloVe ['unaware', 'concerned', 'obviously', 'unacceptable', 'fact']\n",
      "BERT ['unaware', 'unacceptable', 'realize', 'realizing', '[unused795]']\n"
     ]
    }
   ],
   "source": [
    "# unacceptable - acceptable + aware = unaware\n",
    "print(\"FlyVec\",find_closest_embeddings(flyvec, flyvec[\"unacceptable\"] - flyvec[\"acceptable\"] + flyvec[\"aware\"])[1:6])\n",
    "print(\"word2vec\",find_closest_embeddings(word2vec, word2vec[\"unacceptable\"] - word2vec[\"acceptable\"] + word2vec[\"aware\"])[1:6])\n",
    "print(\"GloVe\",find_closest_embeddings(glove, glove[\"unacceptable\"] - glove[\"acceptable\"] + glove[\"aware\"])[1:6])\n",
    "print(\"BERT\",find_closest_embeddings(bert, bert[\"unacceptable\"] - bert[\"acceptable\"] + bert[\"aware\"])[1:6])"
   ]
  },
  {
   "cell_type": "markdown",
   "id": "fc4378c2",
   "metadata": {},
   "source": [
    "### Experiments on Semantic and Syntactic Relationships Dataset"
   ]
  },
  {
   "cell_type": "code",
   "execution_count": 2,
   "id": "86062c80",
   "metadata": {},
   "outputs": [],
   "source": [
    "# https://code.google.com/archive/p/word2vec/source/default/source\n",
    "# https://github.com/nicholas-leonard/word2vec/blob/master/questions-words.txt\n",
    "\n",
    "analogy_dataset = open(\"./word2vec/questions-words.txt\", \"r\")\n",
    "analogies = []\n",
    "for i, line in enumerate(analogy_dataset):\n",
    "    if line[0] != \":\":\n",
    "        analogies.append(line.split())"
   ]
  },
  {
   "cell_type": "code",
   "execution_count": 14,
   "id": "d4af7e1e",
   "metadata": {},
   "outputs": [],
   "source": [
    "'''\n",
    "Takes a token (word) as input and returns the embedding from the given model.\n",
    "'''\n",
    "def get_embedding_from_model(model, token):\n",
    "    try:\n",
    "        return model[token]\n",
    "    except KeyError:\n",
    "        try:\n",
    "            # retry with a lowercase version of the token if it was not present in the voabulary\n",
    "            return model[token.lower()]\n",
    "        except KeyError:\n",
    "            return []\n"
   ]
  },
  {
   "cell_type": "code",
   "execution_count": 15,
   "id": "d39aca47",
   "metadata": {},
   "outputs": [],
   "source": [
    "# adjusted from https://medium.com/analytics-vidhya/basics-of-using-pre-trained-glove-vectors-in-python-d38905f356db\n",
    "\n",
    "'''\n",
    "Given a list of three token, this function constructs the word analogy (a - b + c) and \n",
    "returns a sorted list of the closest words in the embddings space of the given model.\n",
    "'''\n",
    "def find_closest_embeddings(embedding_dict, words):\n",
    "    one = get_embedding_from_model(embedding_dict, words[0])\n",
    "    two = get_embedding_from_model(embedding_dict, words[1])\n",
    "    three = get_embedding_from_model(embedding_dict, words[2])\n",
    "    if len(one) > 0 and len(two) > 0 and len(three) > 0:\n",
    "        embedding = one - two + three\n",
    "        return sorted(embedding_dict.keys(), key=lambda word: spatial.distance.euclidean(embedding_dict[word], embedding))\n",
    "    else:\n",
    "        return []"
   ]
  },
  {
   "cell_type": "code",
   "execution_count": 16,
   "id": "172f552e",
   "metadata": {},
   "outputs": [],
   "source": [
    "'''\n",
    "Calculate the accuracy of a model on the semantic and syntactic relationships dataset.\n",
    "The accuracy is simply the ratio of relationships that were predicated correctly (count)\n",
    "to the amount of relationships for which each word was in the model vocabulary (total).\n",
    "'''\n",
    "def calculate_word_analogy_accuracy(model, k=5):\n",
    "    count = 0\n",
    "    total = 0\n",
    "    closest_embeddings_dict = dict()\n",
    "    for analogy in tqdm(analogies):\n",
    "        closest_embeddings = find_closest_embeddings(model, analogy[:3])[1:k+1]\n",
    "        if len(closest_embeddings) > 0:\n",
    "            total += 1\n",
    "            if analogy[3] in closest_embeddings:\n",
    "                count += 1\n",
    "        closest_embeddings_dict[\";\".join(analogy[:3])] = closest_embeddings\n",
    "    return len(analogies), count, total, closest_embeddings_dict"
   ]
  },
  {
   "cell_type": "code",
   "execution_count": 17,
   "id": "4e28da4e",
   "metadata": {},
   "outputs": [
    {
     "name": "stderr",
     "output_type": "stream",
     "text": [
      "100%|██████████| 19544/19544 [19:35<00:00, 16.63it/s] \n"
     ]
    }
   ],
   "source": [
    "analogies_word2vec, count_word2vec, total_word2vec, closest_embeddings_dict_word2vec = calculate_word_analogy_accuracy(word2vec)"
   ]
  },
  {
   "cell_type": "code",
   "execution_count": 18,
   "id": "34c27a81",
   "metadata": {},
   "outputs": [
    {
     "name": "stderr",
     "output_type": "stream",
     "text": [
      "100%|██████████| 19544/19544 [24:25<00:00, 13.33it/s] \n"
     ]
    }
   ],
   "source": [
    "analogies_flyvec, count_flyvec, total_flyvec, closest_embeddings_dict_flyvec = calculate_word_analogy_accuracy(flyvec)"
   ]
  },
  {
   "cell_type": "code",
   "execution_count": 19,
   "id": "e4a258ef",
   "metadata": {},
   "outputs": [
    {
     "name": "stderr",
     "output_type": "stream",
     "text": [
      "100%|██████████| 19544/19544 [21:33<00:00, 15.11it/s] \n"
     ]
    }
   ],
   "source": [
    "analogies_glove, count_glove, total_glove, closest_embeddings_dict_glove = calculate_word_analogy_accuracy(glove)"
   ]
  },
  {
   "cell_type": "code",
   "execution_count": 20,
   "id": "b85ad477",
   "metadata": {},
   "outputs": [
    {
     "name": "stderr",
     "output_type": "stream",
     "text": [
      "100%|██████████| 19544/19544 [38:57<00:00,  8.36it/s] \n"
     ]
    }
   ],
   "source": [
    "analogies_bert, count_bert, total_bert, closest_embeddings_dict_bert = calculate_word_analogy_accuracy(bert)"
   ]
  },
  {
   "cell_type": "code",
   "execution_count": 21,
   "id": "76f55ae1",
   "metadata": {},
   "outputs": [],
   "source": [
    "flyvec_accuracy = count_flyvec / total_flyvec\n",
    "word2vec_accuracy = count_word2vec / total_word2vec\n",
    "glove_accuracy = count_glove / total_glove\n",
    "bert_accuracy = count_bert / total_bert"
   ]
  },
  {
   "cell_type": "code",
   "execution_count": 22,
   "id": "f7db4774",
   "metadata": {},
   "outputs": [
    {
     "data": {
      "image/png": "[encoded data removed]",
      "text/plain": [
       "<Figure size 432x288 with 1 Axes>"
      ]
     },
     "metadata": {
      "needs_background": "light"
     },
     "output_type": "display_data"
    }
   ],
   "source": [
    "from matplotlib import pyplot as plt\n",
    "\n",
    "plt.bar([1,2,3,4],[flyvec_accuracy*100,word2vec_accuracy*100,glove_accuracy*100,bert_accuracy*100], color=['Orange','Teal','DeepSkyBlue','Indigo'])\n",
    "plt.yticks(np.linspace(0,50,11))\n",
    "plt.xticks([1,2,3,4],['FlyVec','word2vec','GloVe','BERT'])\n",
    "plt.xlabel(\"Models\")\n",
    "plt.ylabel(\"Accuracy in %\")\n",
    "plt.title(\"Semantic and Syntactic Relationships\")\n",
    "#plt.savefig(\"analogies.png\", dpi=300)\n",
    "plt.show()"
   ]
  }
 ],
 "metadata": {
  "kernelspec": {
   "display_name": "Python 3 (ipykernel)",
   "language": "python",
   "name": "python3"
  },
  "language_info": {
   "codemirror_mode": {
    "name": "ipython",
    "version": 3
   },
   "file_extension": ".py",
   "mimetype": "text/x-python",
   "name": "python",
   "nbconvert_exporter": "python",
   "pygments_lexer": "ipython3",
   "version": "3.8.10"
  }
 },
 "nbformat": 4,
 "nbformat_minor": 5
}
