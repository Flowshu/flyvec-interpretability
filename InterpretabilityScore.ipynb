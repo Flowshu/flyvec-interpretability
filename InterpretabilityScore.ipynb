{
 "cells": [
  {
   "cell_type": "markdown",
   "id": "a9cf97ab",
   "metadata": {},
   "source": [
    "# Interpretability Score"
   ]
  },
  {
   "cell_type": "code",
   "execution_count": 1,
   "id": "341ee436-a462-44ca-b68b-a26bcffc1e88",
   "metadata": {},
   "outputs": [],
   "source": [
    "import numpy as np\n",
    "from matplotlib import pyplot as plt\n",
    "import os\n",
    "\n",
    "from flyvec import FlyVec\n",
    "\n",
    "import gensim\n",
    "\n",
    "import torch\n",
    "from transformers import BertModel, BertTokenizer"
   ]
  },
  {
   "cell_type": "code",
   "execution_count": 2,
   "id": "b3ba3a22",
   "metadata": {},
   "outputs": [
    {
     "data": {
      "text/plain": [
       "['auto',\n",
       " 'automobile',\n",
       " 'buggy',\n",
       " 'car',\n",
       " 'compact',\n",
       " 'convertible',\n",
       " 'coupe',\n",
       " 'cruiser',\n",
       " 'hatchback',\n",
       " 'hearse',\n",
       " 'hybrid',\n",
       " 'jeep',\n",
       " 'limo',\n",
       " 'limousine',\n",
       " 'roadster',\n",
       " 'rv',\n",
       " 'sedan',\n",
       " 'suv',\n",
       " 'taxi',\n",
       " 'van']"
      ]
     },
     "execution_count": 2,
     "metadata": {},
     "output_type": "execute_result"
    }
   ],
   "source": [
    "def remove_trailing_newline(line):\n",
    "    return line.split(\"\\n\")[0]\n",
    "\n",
    "# available at https://github.com/avaapm/SEMCATdataset2018\n",
    "path = \"./SEMCATdataset2018/Categories\"\n",
    "categories = dict()\n",
    "for category in os.listdir(path):\n",
    "    cat = open(path + \"/\" + category, \"r\")\n",
    "    categories[category.split(\"-\")[0]] = list(map(remove_trailing_newline, cat.readlines()))\n",
    "categories[\"car\"]"
   ]
  },
  {
   "cell_type": "code",
   "execution_count": 3,
   "id": "7f995ffa-3d33-49a7-b335-cfc8cd90fbfc",
   "metadata": {},
   "outputs": [],
   "source": [
    "'''\n",
    "Sorts the word embeddings in embedding_dict across a single dimension dim\n",
    "'''\n",
    "\n",
    "def get_sorted_dim_values(dim, embedding_dict, num_embeddings=20000):\n",
    "    d = dict()\n",
    "    for word in list(embedding_dict.keys())[:num_embeddings]:\n",
    "        embedding = embedding_dict[word]\n",
    "        d[word] = embedding[dim]\n",
    "    return sorted(d.items(), key=lambda item: item[1])"
   ]
  },
  {
   "cell_type": "code",
   "execution_count": 4,
   "id": "4508256b-daf1-4a23-8c74-d881ca1318d3",
   "metadata": {},
   "outputs": [],
   "source": [
    "'''\n",
    "Implements the interpretability score metric for word embeddings\n",
    "as described by Senel et al. in the paper\n",
    "\"Semantic structure and interpretability of word embeddings\"\n",
    "'''\n",
    "\n",
    "def get_interpretability_score(dim_dict, k=5, num_dimensions=400):\n",
    "    interpretability_score_sum = 0\n",
    "    for i in range(num_dimensions):\n",
    "        values = dim_dict[i]\n",
    "        IS_i_js = []\n",
    "        for j in categories.keys():\n",
    "            S_j = set(categories[j])\n",
    "            V_i_plus = set([w[0] for w in values[-(k * len(j)):]])\n",
    "            V_i_minus = set([w[0] for w in values[:(k * len(j))]])\n",
    "            IS_i_j_plus = len(S_j.intersection(V_i_plus)) / len(j) * 100\n",
    "            IS_i_j_minus = len(S_j.intersection(V_i_minus)) / len(j) * 100\n",
    "            IS_i_j = max(IS_i_j_plus, IS_i_j_minus)\n",
    "            IS_i_js.append(IS_i_j)\n",
    "        IS_i = np.max(np.array(IS_i_js))\n",
    "        interpretability_score_sum += IS_i\n",
    "    return interpretability_score_sum / num_dimensions"
   ]
  },
  {
   "cell_type": "markdown",
   "id": "1154de8a",
   "metadata": {},
   "source": [
    "## FlyVec"
   ]
  },
  {
   "cell_type": "code",
   "execution_count": 5,
   "id": "695c127a-df84-4635-b7f9-9dfc724e7362",
   "metadata": {},
   "outputs": [],
   "source": [
    "flyvec_model = FlyVec.load()"
   ]
  },
  {
   "cell_type": "code",
   "execution_count": 6,
   "id": "94d6e7de-300f-4327-ac22-e2f5f7ab504e",
   "metadata": {},
   "outputs": [],
   "source": [
    "flyvec_embedding_dict = dict()\n",
    "for word in flyvec_model.token_vocab:\n",
    "    if flyvec_model.tokenizer.tokenize(word) != []:\n",
    "        flyvec_embedding_dict[word] = flyvec_model.get_dense_embedding(word)['embedding']"
   ]
  },
  {
   "cell_type": "code",
   "execution_count": 7,
   "id": "e0f7eb96-7460-4168-825c-5e50d9c7a994",
   "metadata": {},
   "outputs": [],
   "source": [
    "flyvec_dim_dict = dict()\n",
    "for i in range(400):\n",
    "    flyvec_dim_dict[i] = get_sorted_dim_values(i, flyvec_embedding_dict)"
   ]
  },
  {
   "cell_type": "code",
   "execution_count": 8,
   "id": "db702a73",
   "metadata": {},
   "outputs": [
    {
     "name": "stdout",
     "output_type": "stream",
     "text": [
      "1 22.19663600288602\n",
      "2 31.270770202020213\n",
      "3 39.14275793650794\n",
      "4 48.661904761904786\n",
      "5 56.3942730880231\n",
      "6 63.15962301587301\n",
      "7 70.79434523809519\n",
      "8 77.67847222222223\n",
      "9 84.24722222222222\n",
      "10 90.05813492063491\n"
     ]
    }
   ],
   "source": [
    "flyvec_interpretability_scores = []\n",
    "for k in range(1,11):\n",
    "    flyvec_interpretability_score = get_interpretability_score(flyvec_dim_dict, k)\n",
    "    flyvec_interpretability_scores.append(flyvec_interpretability_score)\n",
    "    print(k, flyvec_interpretability_score)"
   ]
  },
  {
   "cell_type": "code",
   "execution_count": 11,
   "id": "5205e2c5-9551-4786-8a46-ad81c45a6515",
   "metadata": {},
   "outputs": [],
   "source": [
    "np.save(\"interpretability_scores/flyvec_interpretability_scores.npy\", flyvec_interpretability_scores)"
   ]
  },
  {
   "cell_type": "markdown",
   "id": "9480cc3a-1bb0-4302-b242-b8eb2a67e008",
   "metadata": {
    "tags": []
   },
   "source": [
    "## GloVe"
   ]
  },
  {
   "cell_type": "code",
   "execution_count": 14,
   "id": "1d5e9278-34e1-41a6-a49c-b011ad3ee98e",
   "metadata": {},
   "outputs": [],
   "source": [
    "# https://nlp.stanford.edu/projects/glove/\n",
    "# https://nlp.stanford.edu/data/glove.6B.zip\n",
    "glove_50d = open(\"./models/glove.6B.50d.txt\", \"r\", encoding=\"utf-8\")\n",
    "glove_100d = open(\"./models/glove.6B.100d.txt\", \"r\", encoding=\"utf-8\")\n",
    "glove_200d = open(\"./models/glove.6B.200d.txt\", \"r\", encoding=\"utf-8\")\n",
    "glove_300d = open(\"./models/glove.6B.300d.txt\", \"r\", encoding=\"utf-8\")"
   ]
  },
  {
   "cell_type": "code",
   "execution_count": 15,
   "id": "6954456f-c4a0-4ed8-9e1d-bad9065280c4",
   "metadata": {},
   "outputs": [],
   "source": [
    "# adjusted from https://medium.com/analytics-vidhya/basics-of-using-pre-trained-glove-vectors-in-python-d38905f356db\n",
    "def generate_glove_embedding_dict(glove):\n",
    "    glove_embedding_dict = dict()\n",
    "    for line in glove:\n",
    "        tokens = line.split()\n",
    "        word = tokens[0]\n",
    "        vector = np.asarray(tokens[1:], \"float32\")\n",
    "        glove_embedding_dict[word] = vector\n",
    "    return glove_embedding_dict"
   ]
  },
  {
   "cell_type": "code",
   "execution_count": 16,
   "id": "1cf31232-d5fc-4970-8d8b-36933febc7c5",
   "metadata": {},
   "outputs": [],
   "source": [
    "glove_50d_embedding_dict = generate_glove_embedding_dict(glove_50d)\n",
    "glove_100d_embedding_dict = generate_glove_embedding_dict(glove_100d)\n",
    "glove_200d_embedding_dict = generate_glove_embedding_dict(glove_200d)\n",
    "glove_300d_embedding_dict = generate_glove_embedding_dict(glove_300d)"
   ]
  },
  {
   "cell_type": "code",
   "execution_count": null,
   "id": "fd42164e-aeb4-4054-8209-5094e1a75efe",
   "metadata": {},
   "outputs": [],
   "source": [
    "glove_50d_dim_dict = {dim: get_sorted_dim_values(dim, glove_50d_embedding_dict) for dim in range(50)}\n",
    "glove_100d_dim_dict = {dim: get_sorted_dim_values(dim, glove_100d_embedding_dict) for dim in range(100)}\n",
    "glove_200d_dim_dict = {dim: get_sorted_dim_values(dim, glove_200d_embedding_dict) for dim in range(200)}\n",
    "glove_300d_dim_dict = {dim: get_sorted_dim_values(dim, glove_300d_embedding_dict) for dim in range(300)}"
   ]
  },
  {
   "cell_type": "code",
   "execution_count": 18,
   "id": "574b99f7-77eb-4e36-920f-7f0304d37391",
   "metadata": {},
   "outputs": [],
   "source": [
    "def calculate_glove_interpretabiliy_scores(embedding_dict, dim):\n",
    "    glove_interpretability_scores = []\n",
    "    for k in range(1,11):\n",
    "        glove_interpretability_score = get_interpretability_score(embedding_dict, k, num_dimensions=dim)\n",
    "        glove_interpretability_scores.append(glove_interpretability_score)\n",
    "        print(k, glove_interpretability_score)\n",
    "    return glove_interpretability_scores"
   ]
  },
  {
   "cell_type": "code",
   "execution_count": 19,
   "id": "33828fa9-42ad-4fd2-8ed5-743ee941c7bf",
   "metadata": {},
   "outputs": [
    {
     "name": "stdout",
     "output_type": "stream",
     "text": [
      "1 19.46796157059315\n",
      "2 29.91825396825397\n",
      "3 38.159523809523805\n",
      "4 45.86449456975772\n",
      "5 52.06190476190476\n",
      "6 62.843650793650795\n",
      "7 70.06390977443608\n",
      "8 75.2936507936508\n",
      "9 82.17063492063491\n",
      "10 88.05396825396825\n"
     ]
    }
   ],
   "source": [
    "glove_50d_interpretability_scores = calculate_glove_interpretabiliy_scores(glove_50d_dim_dict, 50)"
   ]
  },
  {
   "cell_type": "code",
   "execution_count": 20,
   "id": "40370a94-f6cf-469a-858a-317f575b5ec0",
   "metadata": {},
   "outputs": [
    {
     "name": "stdout",
     "output_type": "stream",
     "text": [
      "1 17.888131313131318\n",
      "2 28.979473304473295\n",
      "3 38.0326479076479\n",
      "4 46.04761904761907\n",
      "5 53.092857142857135\n",
      "6 62.273015873015865\n",
      "7 69.38531746031745\n",
      "8 76.32261904761907\n",
      "9 83.96666666666668\n",
      "10 89.43650793650795\n"
     ]
    }
   ],
   "source": [
    "glove_100d_interpretability_scores = calculate_glove_interpretabiliy_scores(glove_100d_dim_dict, 100)"
   ]
  },
  {
   "cell_type": "code",
   "execution_count": 21,
   "id": "78f4a5dd-f49c-42ee-923d-277671d38ce8",
   "metadata": {},
   "outputs": [
    {
     "name": "stdout",
     "output_type": "stream",
     "text": [
      "1 18.99065641960378\n",
      "2 27.92441710336448\n",
      "3 35.20967950178475\n",
      "4 40.80789378749905\n",
      "5 46.353925533530784\n",
      "6 52.24043347003873\n",
      "7 57.702662907268184\n",
      "8 63.384722222222216\n",
      "9 69.68273809523808\n",
      "10 75.66567460317458\n"
     ]
    }
   ],
   "source": [
    "glove_200d_interpretability_scores = calculate_glove_interpretabiliy_scores(glove_200d_dim_dict, 200)"
   ]
  },
  {
   "cell_type": "code",
   "execution_count": 22,
   "id": "6b381bc1-36f5-4b1c-8d33-a2bbfe659df8",
   "metadata": {},
   "outputs": [
    {
     "name": "stdout",
     "output_type": "stream",
     "text": [
      "1 18.6966601137654\n",
      "2 26.840752765752782\n",
      "3 34.23352573352575\n",
      "4 39.81216931216938\n",
      "5 44.77804232804241\n",
      "6 50.203042328042415\n",
      "7 54.837566137566206\n",
      "8 60.97385762385763\n",
      "9 65.20429292929296\n",
      "10 69.44073757626388\n"
     ]
    }
   ],
   "source": [
    "glove_300d_interpretability_scores = calculate_glove_interpretabiliy_scores(glove_300d_dim_dict, 300)"
   ]
  },
  {
   "cell_type": "code",
   "execution_count": 24,
   "id": "556f62b4-b906-49f2-82d9-d604a5fea46e",
   "metadata": {},
   "outputs": [],
   "source": [
    "np.save(\"interpretability_scores/glove_50d_interpretability_scores.npy\", glove_50d_interpretability_scores)\n",
    "np.save(\"interpretability_scores/glove_100d_interpretability_scores.npy\", glove_100d_interpretability_scores)\n",
    "np.save(\"interpretability_scores/glove_200d_interpretability_scores.npy\", glove_200d_interpretability_scores)\n",
    "np.save(\"interpretability_scores/glove_300d_interpretability_scores.npy\", glove_300d_interpretability_scores)"
   ]
  },
  {
   "cell_type": "code",
   "execution_count": 25,
   "id": "41ec83d5-195d-4de9-af11-bba739f459b6",
   "metadata": {},
   "outputs": [
    {
     "data": {
      "image/png": "[encoded data removed]",
      "text/plain": [
       "<Figure size 432x288 with 1 Axes>"
      ]
     },
     "metadata": {
      "needs_background": "light"
     },
     "output_type": "display_data"
    }
   ],
   "source": [
    "domain = list(range(1,11))\n",
    "plt.plot(domain, glove_50d_interpretability_scores)\n",
    "plt.plot(domain, glove_100d_interpretability_scores)\n",
    "plt.plot(domain, glove_200d_interpretability_scores)\n",
    "plt.plot(domain, glove_300d_interpretability_scores)\n",
    "plt.xticks(domain)\n",
    "plt.yticks(list(range(0,101,10)))\n",
    "plt.xlabel(\"k\")\n",
    "plt.ylabel(\"Interpretability score in %\")\n",
    "plt.legend([\"GloVe 50d\",\"GloVe 100d\",\"GloVe 200d\",\"GloVe 300d\"])\n",
    "plt.show()"
   ]
  },
  {
   "cell_type": "markdown",
   "id": "3c678229-26aa-4d9d-87d4-d7cdd9dab504",
   "metadata": {
    "tags": []
   },
   "source": [
    "## BERT"
   ]
  },
  {
   "cell_type": "code",
   "execution_count": null,
   "id": "e71f8952-b23a-4cb3-bcf9-fae41771fa74",
   "metadata": {},
   "outputs": [],
   "source": [
    "bert_tiny = \"google/bert_uncased_L-2_H-128_A-2\"\n",
    "bert_tiny_tokenizer = BertTokenizer.from_pretrained(bert_tiny)\n",
    "bert_tiny_model = BertModel.from_pretrained(bert_tiny)"
   ]
  },
  {
   "cell_type": "code",
   "execution_count": null,
   "id": "48d0c319-7467-4e55-b072-f04980f3879c",
   "metadata": {},
   "outputs": [],
   "source": [
    "bert_mini = \"google/bert_uncased_L-4_H-256_A-4\"\n",
    "bert_mini_tokenizer = BertTokenizer.from_pretrained(bert_mini)\n",
    "bert_mini_model = BertModel.from_pretrained(bert_mini)"
   ]
  },
  {
   "cell_type": "code",
   "execution_count": null,
   "id": "20b67337-2fd8-4f51-a7ec-f2ee28770463",
   "metadata": {},
   "outputs": [],
   "source": [
    "bert_small = \"google/bert_uncased_L-4_H-512_A-8\"\n",
    "bert_small_tokenizer = BertTokenizer.from_pretrained(bert_small)\n",
    "bert_small_model = BertModel.from_pretrained(bert_small)"
   ]
  },
  {
   "cell_type": "code",
   "execution_count": null,
   "id": "4242fd92-1625-435e-bc2e-707430b878fa",
   "metadata": {},
   "outputs": [],
   "source": [
    "bert_medium = \"google/bert_uncased_L-8_H-512_A-8\"\n",
    "bert_medium_tokenizer = BertTokenizer.from_pretrained(bert_medium)\n",
    "bert_medium_model = BertModel.from_pretrained(bert_medium)"
   ]
  },
  {
   "cell_type": "code",
   "execution_count": null,
   "id": "dabb3fa4-c856-45e4-8331-fd62d6b7f54a",
   "metadata": {},
   "outputs": [],
   "source": [
    "bert_base = \"bert-base-uncased\"\n",
    "bert_base_tokenizer = BertTokenizer.from_pretrained(bert_base)\n",
    "bert_base_model = BertModel.from_pretrained(bert_base)"
   ]
  },
  {
   "cell_type": "code",
   "execution_count": 11,
   "id": "21f2d65c-0f0b-490e-b23c-0da6d05c7ec4",
   "metadata": {},
   "outputs": [],
   "source": [
    "# based on http://stackoverflow.com/questions/63126386/ddg#63128700\n",
    "bert_tiny_embedding_dict = {token: bert_tiny_model.get_input_embeddings()(torch.tensor(id))  for token, id in bert_tiny_tokenizer.get_vocab().items()}\n",
    "bert_mini_embedding_dict = {token: bert_mini_model.get_input_embeddings()(torch.tensor(id))  for token, id in bert_mini_tokenizer.get_vocab().items()}\n",
    "bert_small_embedding_dict = {token: bert_small_model.get_input_embeddings()(torch.tensor(id))  for token, id in bert_small_tokenizer.get_vocab().items()}\n",
    "bert_medium_embedding_dict = {token: bert_medium_model.get_input_embeddings()(torch.tensor(id))  for token, id in bert_medium_tokenizer.get_vocab().items()}\n",
    "bert_base_embedding_dict = {token: bert_base_model.get_input_embeddings()(torch.tensor(id))  for token, id in bert_base_tokenizer.get_vocab().items()}"
   ]
  },
  {
   "cell_type": "code",
   "execution_count": null,
   "id": "64a5315e-11fb-4028-b559-3cc871a001d5",
   "metadata": {},
   "outputs": [],
   "source": [
    "bert_tiny_dim_dict = {dim: get_sorted_dim_values(dim, bert_tiny_embedding_dict) for dim in range(128)}\n",
    "bert_mini_dim_dict = {dim: get_sorted_dim_values(dim, bert_mini_embedding_dict) for dim in range(256)}\n",
    "bert_small_dim_dict = {dim: get_sorted_dim_values(dim, bert_small_embedding_dict) for dim in range(512)}\n",
    "bert_medium_dim_dict = {dim: get_sorted_dim_values(dim, bert_medium_embedding_dict) for dim in range(512)}\n",
    "bert_base_dim_dict = {dim: get_sorted_dim_values(dim, bert_base_embedding_dict) for dim in range(756)}"
   ]
  },
  {
   "cell_type": "code",
   "execution_count": 13,
   "id": "a99ba1dd-971f-4e0a-9d7c-e3857333be78",
   "metadata": {},
   "outputs": [],
   "source": [
    "def calculate_bert_interpretabiliy_scores(dim_dict, dim):\n",
    "    bert_interpretability_scores = []\n",
    "    for k in range(1,11):\n",
    "        bert_interpretability_score = get_interpretability_score(dim_dict, k, num_dimensions=dim)\n",
    "        bert_interpretability_scores.append(bert_interpretability_score)\n",
    "        print(k, bert_interpretability_score)\n",
    "    return bert_interpretability_scores"
   ]
  },
  {
   "cell_type": "code",
   "execution_count": 43,
   "id": "c030a961-f99b-40f8-94da-4e80fd336e8e",
   "metadata": {},
   "outputs": [
    {
     "name": "stdout",
     "output_type": "stream",
     "text": [
      "1 13.21484790337586\n",
      "2 20.271070075757578\n",
      "3 25.22842825577201\n",
      "4 30.44417388167389\n",
      "5 33.749041756854254\n",
      "6 37.60543492965368\n",
      "7 42.32712166305916\n",
      "8 45.06273674242422\n",
      "9 49.765900902825244\n",
      "10 53.481516884066224\n"
     ]
    }
   ],
   "source": [
    "bert_tiny_interpretability_scores = calculate_bert_interpretabiliy_scores(bert_tiny_dim_dict, 128)\n",
    "np.save(\"interpretability_scores/bert_tiny_interpretability_scores.npy\", bert_tiny_interpretability_scores)"
   ]
  },
  {
   "cell_type": "code",
   "execution_count": 14,
   "id": "d45ed743-bf6d-4c93-8cfc-bf19bcacbbb6",
   "metadata": {},
   "outputs": [
    {
     "name": "stdout",
     "output_type": "stream",
     "text": [
      "1 16.74059156532429\n",
      "2 22.37847222222224\n",
      "3 28.644325509559884\n",
      "4 33.03695436507937\n",
      "5 38.009362599206334\n",
      "6 41.986607142857146\n",
      "7 45.236474679834075\n",
      "8 48.74973225559169\n",
      "9 53.17894345238096\n",
      "10 56.022854099026006\n"
     ]
    }
   ],
   "source": [
    "bert_mini_interpretability_scores = calculate_bert_interpretabiliy_scores(bert_mini_dim_dict, 256)\n",
    "np.save(\"interpretability_scores/bert_mini_interpretability_scores.npy\", bert_mini_interpretability_scores)"
   ]
  },
  {
   "cell_type": "code",
   "execution_count": null,
   "id": "eb246b42-5d37-4d3e-86e1-836dc05a483f",
   "metadata": {},
   "outputs": [],
   "source": [
    "bert_small_interpretability_scores = calculate_bert_interpretabiliy_scores(bert_small_dim_dict, 512)"
   ]
  },
  {
   "cell_type": "code",
   "execution_count": null,
   "id": "7cbf97c1-a77b-49aa-af86-dd8dd6ff82cb",
   "metadata": {},
   "outputs": [],
   "source": [
    "bert_medium_interpretability_scores = calculate_bert_interpretabiliy_scores(bert_medium_dim_dict, 512)"
   ]
  },
  {
   "cell_type": "code",
   "execution_count": null,
   "id": "9ca679ca-8e68-409f-a836-c132121d093a",
   "metadata": {},
   "outputs": [],
   "source": [
    "bert_base_interpretability_scores = calculate_bert_interpretabiliy_scores(bert_base_dim_dict, 756)"
   ]
  },
  {
   "cell_type": "markdown",
   "id": "6e744ec2-d472-47c4-aa3f-869345b915b1",
   "metadata": {
    "tags": []
   },
   "source": [
    "## word2vec"
   ]
  },
  {
   "cell_type": "code",
   "execution_count": 8,
   "id": "20ad8142-2b07-4388-b899-2a0f917dc582",
   "metadata": {},
   "outputs": [],
   "source": [
    "# https://s3.amazonaws.com/dl4j-distribution/GoogleNews-vectors-negative300.bin.gz\n",
    "\n",
    "word2vec_model = gensim.models.KeyedVectors.load_word2vec_format('models/GoogleNews-vectors-negative300.bin', binary=True) "
   ]
  },
  {
   "cell_type": "code",
   "execution_count": 9,
   "id": "e6835cca-d399-4d6d-b221-cbed49d59aa5",
   "metadata": {},
   "outputs": [],
   "source": [
    "word2vec_embedding_dict = dict()\n",
    "for k in list(word2vec_model.key_to_index.keys())[:20000]:\n",
    "    word2vec_embedding_dict[k] = word2vec_model[k]"
   ]
  },
  {
   "cell_type": "code",
   "execution_count": 12,
   "id": "aa93cfc5-a7dd-4524-a197-d8aab41e18d1",
   "metadata": {},
   "outputs": [],
   "source": [
    "word2vec_embedding_dict = dict()\n",
    "for k in flyvec_model.vocab:\n",
    "    word2vec_embedding_dict[k] = word2vec_model[k]"
   ]
  },
  {
   "cell_type": "code",
   "execution_count": 13,
   "id": "96b95c83-b23d-431e-afba-5961f5680223",
   "metadata": {},
   "outputs": [],
   "source": [
    "dim_dict = dict()\n",
    "for i in range(300):\n",
    "    dim_dict[i] = get_sorted_dim_values(i, word2vec_embedding_dict)"
   ]
  },
  {
   "cell_type": "code",
   "execution_count": null,
   "id": "60f99aea-5d1e-42c2-90d2-a8fa0225c269",
   "metadata": {},
   "outputs": [],
   "source": [
    "word2vec_interpretability_scores = []\n",
    "for k in range(1,11):\n",
    "    word2vec_interpretability_score = get_interpretability_score(dim_dict, k, num_dimensions=300)\n",
    "    word2vec_interpretability_scores.append(word2vec_interpretability_score)\n",
    "    print(k, word2vec_interpretability_score)"
   ]
  },
  {
   "cell_type": "code",
   "execution_count": 32,
   "id": "5e7bb964-3cf3-4b3e-bcec-806888f2ff80",
   "metadata": {},
   "outputs": [],
   "source": [
    "np.save(\"interpretability_scores/word2vec_interpretability_scores.npy\", word2vec_interpretability_scores)"
   ]
  },
  {
   "cell_type": "markdown",
   "id": "d797517e-3f30-40c1-aa5f-f89d6fd67645",
   "metadata": {},
   "source": [
    "## Random Embeddings (Baseline)"
   ]
  },
  {
   "cell_type": "code",
   "execution_count": null,
   "id": "fdedf7ff-d098-4c96-a9e8-ec9aca7303d7",
   "metadata": {},
   "outputs": [],
   "source": [
    "random_embedding_dict = {token: np.random.random(400) for token in flyvec_model.token_vocab}\n",
    "random_dim_dict = {dim: get_sorted_dim_values(dim, random_embedding_dict) for dim in range(300)}"
   ]
  },
  {
   "cell_type": "code",
   "execution_count": 40,
   "id": "9a46ff66-7a08-4a8f-83ee-95d6c933a29b",
   "metadata": {},
   "outputs": [
    {
     "name": "stdout",
     "output_type": "stream",
     "text": [
      "1 19.27157287157289\n",
      "2 23.621849446849456\n",
      "3 27.295502645502633\n",
      "4 30.365909090909074\n",
      "5 32.640379990380005\n",
      "6 35.18892496392501\n",
      "7 37.375974025974095\n",
      "8 38.62518037518043\n",
      "9 40.2876623376624\n",
      "10 42.04758297258304\n"
     ]
    }
   ],
   "source": [
    "random_interpretability_scores = []\n",
    "for k in range(1,11):\n",
    "    random_interpretability_score = get_interpretability_score(random_dim_dict, k, num_dimensions=300)\n",
    "    random_interpretability_scores.append(random_interpretability_score)\n",
    "    print(k, random_interpretability_score)"
   ]
  },
  {
   "cell_type": "markdown",
   "id": "c84025e1-0910-4165-8be2-87f4f7c6fab1",
   "metadata": {},
   "source": [
    "## Comparison"
   ]
  },
  {
   "cell_type": "code",
   "execution_count": 34,
   "id": "8d7786d5-0e25-4ad9-9287-eb975cf69231",
   "metadata": {},
   "outputs": [],
   "source": [
    "flyvec_interpretability_scores = np.load(\"interpretability_scores/flyvec_interpretability_scores.npy\")"
   ]
  },
  {
   "cell_type": "code",
   "execution_count": 35,
   "id": "55508d08-c633-4f07-b7fb-c525fe958f5d",
   "metadata": {},
   "outputs": [],
   "source": [
    "word2vec_interpretability_scores = np.load(\"interpretability_scores/word2vec_interpretability_scores.npy\")"
   ]
  },
  {
   "cell_type": "code",
   "execution_count": 36,
   "id": "c6422aba-38c5-46b2-b984-84cac226556f",
   "metadata": {},
   "outputs": [],
   "source": [
    "glove_50d_interpretability_scores = np.load(\"interpretability_scores/glove_50d_interpretability_scores.npy\")\n",
    "#glove_100d_interpretability_scores = np.load(\"interpretability_scores/glove_100d_interpretability_scores.npy\")\n",
    "#glove_200d_interpretability_scores = np.load(\"interpretability_scores/glove_200d_interpretability_scores.npy\")\n",
    "glove_300d_interpretability_scores = np.load(\"interpretability_scores/glove_300d_interpretability_scores.npy\")"
   ]
  },
  {
   "cell_type": "code",
   "execution_count": 37,
   "id": "7dab6642-c779-4f1b-868d-b98038851140",
   "metadata": {},
   "outputs": [],
   "source": [
    "bert_tiny_interpretability_scores = np.load(\"interpretability_scores/bert_tiny_interpretability_scores.npy\")\n",
    "bert_mini_interpretability_scores = np.load(\"interpretability_scores/bert_mini_interpretability_scores.npy\")"
   ]
  },
  {
   "cell_type": "code",
   "execution_count": 41,
   "id": "f2494383-bb9d-4d47-b25b-9a60bdf1a768",
   "metadata": {},
   "outputs": [
    {
     "data": {
      "image/png": "[encoded data removed]",
      "text/plain": [
       "<Figure size 432x288 with 1 Axes>"
      ]
     },
     "metadata": {
      "needs_background": "light"
     },
     "output_type": "display_data"
    }
   ],
   "source": [
    "domain = list(range(1,11))\n",
    "plt.plot(domain, flyvec_interpretability_scores)\n",
    "plt.plot(domain, word2vec_interpretability_scores)\n",
    "plt.plot(domain, glove_50d_interpretability_scores)\n",
    "#plt.plot(domain, glove_100d_interpretability_scores)\n",
    "#plt.plot(domain, glove_200d_interpretability_scores)\n",
    "plt.plot(domain, glove_300d_interpretability_scores)\n",
    "plt.plot(domain, bert_tiny_interpretability_scores)\n",
    "plt.plot(domain, bert_mini_interpretability_scores)\n",
    "plt.plot(domain, random_interpretability_scores)\n",
    "plt.xticks(domain)\n",
    "plt.yticks(list(range(0,101,10)))\n",
    "plt.xlabel(\"k\")\n",
    "plt.ylabel(\"Interpretability score in %\")\n",
    "plt.legend([\"FlyVec\",\"Word2Vec\",\"GloVe 50d\",\"GloVe 300d\", \"BERT-Tiny\", \"BERT-Mini\", \"random\"])\n",
    "plt.title(\"Interpretability scores of different word embeddings\")\n",
    "#plt.savefig(\"figure.png\", dpi=300)\n",
    "plt.show()"
   ]
  }
 ],
 "metadata": {
  "kernelspec": {
   "display_name": "Python 3 (ipykernel)",
   "language": "python",
   "name": "python3"
  },
  "language_info": {
   "codemirror_mode": {
    "name": "ipython",
    "version": 3
   },
   "file_extension": ".py",
   "mimetype": "text/x-python",
   "name": "python",
   "nbconvert_exporter": "python",
   "pygments_lexer": "ipython3",
   "version": "3.8.10"
  }
 },
 "nbformat": 4,
 "nbformat_minor": 5
}
