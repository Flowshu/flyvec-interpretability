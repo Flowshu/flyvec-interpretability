{
 "cells": [
  {
   "cell_type": "code",
   "execution_count": 1,
   "id": "f0701fe6-d5e8-4a9c-b4f5-4d2d65f68972",
   "metadata": {},
   "outputs": [],
   "source": [
    "import numpy as np\n",
    "from flyvec import FlyVec"
   ]
  },
  {
   "cell_type": "code",
   "execution_count": 2,
   "id": "413a3a0a-2581-49a7-92e8-e91e64e4374a",
   "metadata": {},
   "outputs": [],
   "source": [
    "model = FlyVec.load()"
   ]
  },
  {
   "cell_type": "code",
   "execution_count": 4,
   "id": "fad0b7ba-f4b1-4ec0-abf7-6ba276dff06f",
   "metadata": {},
   "outputs": [],
   "source": [
    "def sim(a,b):\n",
    "    assert a.shape == b.shape\n",
    "    return (np.sum(a == b) / a.shape[0])"
   ]
  },
  {
   "cell_type": "code",
   "execution_count": 5,
   "id": "e02fa9f8-11f7-4076-a4de-46b974572201",
   "metadata": {},
   "outputs": [],
   "source": [
    "def get_most_similar_word(w):\n",
    "    a = model.get_sparse_embedding(w)['embedding']\n",
    "    max_sim = -1\n",
    "    max_sim_word = \"\"\n",
    "    for word in model.token_vocab:\n",
    "        if word != w and model.tokenizer.tokenize(word) != []:\n",
    "            embedding = model.get_sparse_embedding(word)['embedding']\n",
    "            similarity = sim(a, embedding)\n",
    "            if similarity > max_sim:\n",
    "                max_sim = similarity\n",
    "                max_sim_word = word\n",
    "    print(max_sim, max_sim_word)"
   ]
  },
  {
   "cell_type": "code",
   "execution_count": 7,
   "id": "097a8e13-9bd8-4413-902d-f45bc9c0dbc1",
   "metadata": {},
   "outputs": [],
   "source": [
    "def get_top_k_similar_words(w, k):\n",
    "    d = dict()\n",
    "    for word in model.token_vocab:\n",
    "        if word != w and model.tokenizer.tokenize(word) != []:\n",
    "            embedding = model.get_sparse_embedding(word)['embedding']\n",
    "            similarity = sim(model.get_sparse_embedding(w)['embedding'], embedding)\n",
    "            d[word] = similarity\n",
    "    return sorted(d.items(), key=lambda item: item[1])[-k:]"
   ]
  },
  {
   "cell_type": "code",
   "execution_count": 8,
   "id": "b3015036-8ac2-4995-9d0c-0784db755dd8",
   "metadata": {},
   "outputs": [
    {
     "data": {
      "text/plain": [
       "[('cab', 0.905),\n",
       " ('tractor', 0.905),\n",
       " ('vehicle', 0.91),\n",
       " ('truck', 0.91),\n",
       " ('suv', 0.91)]"
      ]
     },
     "execution_count": 8,
     "metadata": {},
     "output_type": "execute_result"
    }
   ],
   "source": [
    "get_top_k_similar_words(\"car\", 5)"
   ]
  },
  {
   "cell_type": "code",
   "execution_count": 9,
   "id": "0bb8be7a-31c3-487f-8293-3e23871180fc",
   "metadata": {},
   "outputs": [
    {
     "data": {
      "text/plain": [
       "[('acid', 0.915),\n",
       " ('algae', 0.915),\n",
       " ('fluids', 0.915),\n",
       " ('poisonous', 0.915),\n",
       " ('potassium', 0.915),\n",
       " ('synthetic', 0.92),\n",
       " ('substances', 0.93),\n",
       " ('pesticides', 0.935),\n",
       " ('toxins', 0.935),\n",
       " ('toxic', 0.945)]"
      ]
     },
     "execution_count": 9,
     "metadata": {},
     "output_type": "execute_result"
    }
   ],
   "source": [
    "get_top_k_similar_words(\"chemicals\", 10)"
   ]
  },
  {
   "cell_type": "code",
   "execution_count": 10,
   "id": "c34c2fdf-671b-4881-966b-19b52d79029e",
   "metadata": {},
   "outputs": [
    {
     "data": {
      "text/plain": [
       "[('descriptions', 0.895),\n",
       " ('notation', 0.895),\n",
       " ('languages', 0.9),\n",
       " ('phrases', 0.9),\n",
       " ('metaphors', 0.9),\n",
       " ('calculus', 0.9),\n",
       " ('translation', 0.905),\n",
       " ('vocabulary', 0.905),\n",
       " ('grammar', 0.905),\n",
       " ('concepts', 0.91)]"
      ]
     },
     "execution_count": 10,
     "metadata": {},
     "output_type": "execute_result"
    }
   ],
   "source": [
    "get_top_k_similar_words(\"language\", 10)"
   ]
  },
  {
   "cell_type": "code",
   "execution_count": 11,
   "id": "31a402ca-7116-4899-8601-25358e731989",
   "metadata": {},
   "outputs": [
    {
     "data": {
      "text/plain": [
       "[('detector', 0.89),\n",
       " ('coil', 0.89),\n",
       " ('diesel', 0.895),\n",
       " ('toyota', 0.895),\n",
       " ('hydrogen', 0.895),\n",
       " ('motors', 0.9),\n",
       " ('powered', 0.9),\n",
       " ('tesla', 0.9),\n",
       " ('hybrid', 0.905),\n",
       " ('solar', 0.905)]"
      ]
     },
     "execution_count": 11,
     "metadata": {},
     "output_type": "execute_result"
    }
   ],
   "source": [
    "get_top_k_similar_words(\"electric\", 10)"
   ]
  },
  {
   "cell_type": "code",
   "execution_count": 12,
   "id": "21893ffd-094c-43c4-a25d-dce201249764",
   "metadata": {},
   "outputs": [
    {
     "data": {
      "text/plain": [
       "[('smartphone', 0.905),\n",
       " ('iphone', 0.905),\n",
       " ('blackberry', 0.905),\n",
       " ('dell', 0.905),\n",
       " ('asus', 0.905),\n",
       " ('apple’s', 0.91),\n",
       " ('motorola', 0.91),\n",
       " ('apples', 0.91),\n",
       " ('htc', 0.91),\n",
       " ('samsung', 0.935)]"
      ]
     },
     "execution_count": 12,
     "metadata": {},
     "output_type": "execute_result"
    }
   ],
   "source": [
    "get_top_k_similar_words(\"apple\", 10)"
   ]
  }
 ],
 "metadata": {
  "kernelspec": {
   "display_name": "Python 3 (ipykernel)",
   "language": "python",
   "name": "python3"
  },
  "language_info": {
   "codemirror_mode": {
    "name": "ipython",
    "version": 3
   },
   "file_extension": ".py",
   "mimetype": "text/x-python",
   "name": "python",
   "nbconvert_exporter": "python",
   "pygments_lexer": "ipython3",
   "version": "3.8.10"
  }
 },
 "nbformat": 4,
 "nbformat_minor": 5
}
